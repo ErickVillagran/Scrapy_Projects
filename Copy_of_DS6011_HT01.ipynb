{
  "nbformat": 4,
  "nbformat_minor": 0,
  "metadata": {
    "colab": {
      "name": "Copy of DS6011_HT01.ipynb",
      "provenance": [],
      "collapsed_sections": [],
      "include_colab_link": true
    },
    "kernelspec": {
      "name": "python3",
      "display_name": "Python 3"
    },
    "language_info": {
      "name": "python"
    }
  },
  "cells": [
    {
      "cell_type": "markdown",
      "metadata": {
        "id": "view-in-github",
        "colab_type": "text"
      },
      "source": [
        "<a href=\"https://colab.research.google.com/github/ErickVillagran/Scrapy_Projects/blob/master/Copy_of_DS6011_HT01.ipynb\" target=\"_parent\"><img src=\"https://colab.research.google.com/assets/colab-badge.svg\" alt=\"Open In Colab\"/></a>"
      ]
    },
    {
      "cell_type": "markdown",
      "metadata": {
        "id": "Y9FCLIzbM9fn"
      },
      "source": [
        "# Hoja de Trabajo \\# 1 \n",
        "\n",
        "\n",
        "---\n",
        "\n",
        "\n",
        "por Josué Obregón <br>\n",
        "DS6011 - Feature Engineering <br>\n",
        "UVG Masters - Escuela de Negocios<br>\n"
      ]
    },
    {
      "cell_type": "code",
      "metadata": {
        "id": "t4He27bEGv5X"
      },
      "source": [
        ""
      ],
      "execution_count": null,
      "outputs": []
    },
    {
      "cell_type": "markdown",
      "metadata": {
        "id": "w0-nImUHNxOv"
      },
      "source": [
        "## Objetivos\n",
        "\n",
        "El objetivo principal de esta hoja de trabajo  es familiarizar al estudiante en dos aspectos importantes para el desarrollo de la clase en general.\n",
        "\n",
        "El primer aspecto es el concepto básico de lo que es **Feature Engineering**. Esto lo lograremos con un ejemplo sencillo de aplicación de la transformación de las variables predictoras para obtener mejores resultados en un modelo predictivo.\n",
        "\n",
        "El segundo aspecto es el uso de las diferentes herramientas de tecnología que utilizaremos a lo largo del curso: GitHub, Google colab y la librería scikit-learn."
      ]
    },
    {
      "cell_type": "markdown",
      "metadata": {
        "id": "RYjZ_KEuTCTe"
      },
      "source": [
        "## Importación de librerías y carga de los datos a un pandas [DataFrame](https://pandas.pydata.org/pandas-docs/version/1.1.5/reference/frame.html)\n",
        "\n",
        "\n",
        "Las librerías que importaremos para empezar son pandas para el manejo de los datos y matplotlib para realizar algunas gráficas. \n",
        "\n",
        "Los datos fueron obtenidos de un estudio de la calidad de la segmentación de imagenes para células SK-BR-3. [Link al artículo con detalles de los datos](https://bmcbioinformatics.biomedcentral.com/articles/10.1186/1471-2105-8-340#Sec22) -- [Link a los datos](https://static-content.springer.com/esm/art%3A10.1186%2F1471-2105-8-340/MediaObjects/12859_2006_1712_MOESM1_ESM.csv)\n"
      ]
    },
    {
      "cell_type": "code",
      "metadata": {
        "id": "0q6Lu5uKPRoa"
      },
      "source": [
        "import pandas as pd\n",
        "import matplotlib.pyplot as plt"
      ],
      "execution_count": 6,
      "outputs": []
    },
    {
      "cell_type": "code",
      "metadata": {
        "id": "bBRl7VGfALex"
      },
      "source": [
        "!mkdir data"
      ],
      "execution_count": 7,
      "outputs": []
    },
    {
      "cell_type": "code",
      "metadata": {
        "id": "YR1uTokC8Wzi",
        "colab": {
          "base_uri": "https://localhost:8080/",
          "height": 103
        },
        "outputId": "d76c7b79-a0c3-412f-a2da-8881211a2270"
      },
      "source": [
        "import gdown\n",
        "\n",
        "url = 'https://drive.google.com/uc?export=download&id=1iaPYDUAJ8rCApeYfQplMbzeLPPUyQJ8f'\n",
        "output = 'data/screening_data.csv'\n",
        "gdown.download(url, output, quiet=False)"
      ],
      "execution_count": 9,
      "outputs": [
        {
          "output_type": "stream",
          "text": [
            "Downloading...\n",
            "From: https://drive.google.com/uc?export=download&id=1iaPYDUAJ8rCApeYfQplMbzeLPPUyQJ8f\n",
            "To: /content/data/screening_data.csv\n",
            "100%|██████████| 2.06M/2.06M [00:00<00:00, 12.3MB/s]\n"
          ],
          "name": "stderr"
        },
        {
          "output_type": "execute_result",
          "data": {
            "application/vnd.google.colaboratory.intrinsic+json": {
              "type": "string"
            },
            "text/plain": [
              "'data/screening_data.csv'"
            ]
          },
          "metadata": {
            "tags": []
          },
          "execution_count": 9
        }
      ]
    },
    {
      "cell_type": "code",
      "metadata": {
        "id": "tbt7GzUNOT3O"
      },
      "source": [
        "df = pd.read_csv('data/screening_data.csv')"
      ],
      "execution_count": 10,
      "outputs": []
    },
    {
      "cell_type": "code",
      "metadata": {
        "id": "0MCGdyjEP-wp",
        "colab": {
          "base_uri": "https://localhost:8080/",
          "height": 270
        },
        "outputId": "88811bf7-8716-4000-c304-71622851156d"
      },
      "source": [
        "df.head(5)"
      ],
      "execution_count": 11,
      "outputs": [
        {
          "output_type": "execute_result",
          "data": {
            "text/html": [
              "<div>\n",
              "<style scoped>\n",
              "    .dataframe tbody tr th:only-of-type {\n",
              "        vertical-align: middle;\n",
              "    }\n",
              "\n",
              "    .dataframe tbody tr th {\n",
              "        vertical-align: top;\n",
              "    }\n",
              "\n",
              "    .dataframe thead th {\n",
              "        text-align: right;\n",
              "    }\n",
              "</style>\n",
              "<table border=\"1\" class=\"dataframe\">\n",
              "  <thead>\n",
              "    <tr style=\"text-align: right;\">\n",
              "      <th></th>\n",
              "      <th>Unnamed: 0</th>\n",
              "      <th>Case</th>\n",
              "      <th>Class</th>\n",
              "      <th>MorphologyV2Cell.AngleCh1</th>\n",
              "      <th>MorphologyV2Cell.AngleStatusCh1</th>\n",
              "      <th>MorphologyV2Cell.AreaCh1</th>\n",
              "      <th>MorphologyV2Cell.AreaStatusCh1</th>\n",
              "      <th>MorphologyV2Cell.AvgIntenCh1</th>\n",
              "      <th>MorphologyV2Cell.AvgIntenCh2</th>\n",
              "      <th>MorphologyV2Cell.AvgIntenCh3</th>\n",
              "      <th>MorphologyV2Cell.AvgIntenCh4</th>\n",
              "      <th>MorphologyV2Cell.AvgIntenStatusCh1</th>\n",
              "      <th>MorphologyV2Cell.AvgIntenStatusCh2</th>\n",
              "      <th>MorphologyV2Cell.AvgIntenStatusCh3</th>\n",
              "      <th>MorphologyV2Cell.AvgIntenStatusCh4</th>\n",
              "      <th>MorphologyV2Cell.ConvexHullAreaRatioCh1</th>\n",
              "      <th>MorphologyV2Cell.ConvexHullAreaRatioStatusCh1</th>\n",
              "      <th>MorphologyV2Cell.ConvexHullPerimRatioCh1</th>\n",
              "      <th>MorphologyV2Cell.ConvexHullPerimRatioStatusCh1</th>\n",
              "      <th>MorphologyV2Cell.DiffIntenDensityCh1</th>\n",
              "      <th>MorphologyV2Cell.DiffIntenDensityCh3</th>\n",
              "      <th>MorphologyV2Cell.DiffIntenDensityCh4</th>\n",
              "      <th>MorphologyV2Cell.DiffIntenDensityStatusCh1</th>\n",
              "      <th>MorphologyV2Cell.DiffIntenDensityStatusCh3</th>\n",
              "      <th>MorphologyV2Cell.DiffIntenDensityStatusCh4</th>\n",
              "      <th>MorphologyV2Cell.EntropyIntenCh1</th>\n",
              "      <th>MorphologyV2Cell.EntropyIntenCh3</th>\n",
              "      <th>MorphologyV2Cell.EntropyIntenCh4</th>\n",
              "      <th>MorphologyV2Cell.EntropyIntenStatusCh1</th>\n",
              "      <th>MorphologyV2Cell.EntropyIntenStatusCh3</th>\n",
              "      <th>MorphologyV2Cell.EntropyIntenStatusCh4</th>\n",
              "      <th>MorphologyV2Cell.EqCircDiamCh1</th>\n",
              "      <th>MorphologyV2Cell.EqCircDiamStatusCh1</th>\n",
              "      <th>MorphologyV2Cell.EqEllipseLWRCh1</th>\n",
              "      <th>MorphologyV2Cell.EqEllipseLWRStatusCh1</th>\n",
              "      <th>MorphologyV2Cell.EqEllipseOblateVolCh1</th>\n",
              "      <th>MorphologyV2Cell.EqEllipseOblateVolStatusCh1</th>\n",
              "      <th>MorphologyV2Cell.EqEllipseProlateVolCh1</th>\n",
              "      <th>MorphologyV2Cell.EqEllipseProlateVolStatusCh1</th>\n",
              "      <th>MorphologyV2Cell.EqSphereAreaCh1</th>\n",
              "      <th>...</th>\n",
              "      <th>MorphologyV2Cell.NeighborMinDistCh1</th>\n",
              "      <th>MorphologyV2Cell.NeighborMinDistStatusCh1</th>\n",
              "      <th>MorphologyV2Cell.NeighborVarDistCh1</th>\n",
              "      <th>MorphologyV2Cell.NeighborVarDistStatusCh1</th>\n",
              "      <th>MorphologyV2Cell.PerimCh1</th>\n",
              "      <th>MorphologyV2Cell.PerimStatusCh1</th>\n",
              "      <th>MorphologyV2Cell.ShapeBFRCh1</th>\n",
              "      <th>MorphologyV2Cell.ShapeBFRStatusCh1</th>\n",
              "      <th>MorphologyV2Cell.ShapeLWRCh1</th>\n",
              "      <th>MorphologyV2Cell.ShapeLWRStatusCh1</th>\n",
              "      <th>MorphologyV2Cell.ShapeP2ACh1</th>\n",
              "      <th>MorphologyV2Cell.ShapeP2AStatusCh1</th>\n",
              "      <th>MorphologyV2Cell.SkewIntenCh1</th>\n",
              "      <th>MorphologyV2Cell.SkewIntenCh3</th>\n",
              "      <th>MorphologyV2Cell.SkewIntenCh4</th>\n",
              "      <th>MorphologyV2Cell.SkewIntenStatusCh1</th>\n",
              "      <th>MorphologyV2Cell.SkewIntenStatusCh3</th>\n",
              "      <th>MorphologyV2Cell.SkewIntenStatusCh4</th>\n",
              "      <th>MorphologyV2Cell.SpotFiberCountCh3</th>\n",
              "      <th>MorphologyV2Cell.SpotFiberCountCh4</th>\n",
              "      <th>MorphologyV2Cell.SpotFiberCountStatusCh3</th>\n",
              "      <th>MorphologyV2Cell.SpotFiberCountStatusCh4</th>\n",
              "      <th>MorphologyV2Cell.TotalIntenCh1</th>\n",
              "      <th>MorphologyV2Cell.TotalIntenCh2</th>\n",
              "      <th>MorphologyV2Cell.TotalIntenCh3</th>\n",
              "      <th>MorphologyV2Cell.TotalIntenCh4</th>\n",
              "      <th>MorphologyV2Cell.TotalIntenStatusCh1</th>\n",
              "      <th>MorphologyV2Cell.TotalIntenStatusCh2</th>\n",
              "      <th>MorphologyV2Cell.TotalIntenStatusCh3</th>\n",
              "      <th>MorphologyV2Cell.TotalIntenStatusCh4</th>\n",
              "      <th>MorphologyV2Cell.VarIntenCh1</th>\n",
              "      <th>MorphologyV2Cell.VarIntenCh3</th>\n",
              "      <th>MorphologyV2Cell.VarIntenCh4</th>\n",
              "      <th>MorphologyV2Cell.VarIntenStatusCh1</th>\n",
              "      <th>MorphologyV2Cell.VarIntenStatusCh3</th>\n",
              "      <th>MorphologyV2Cell.VarIntenStatusCh4</th>\n",
              "      <th>MorphologyV2Cell.WidthCh1</th>\n",
              "      <th>MorphologyV2Cell.WidthStatusCh1</th>\n",
              "      <th>MorphologyV2Cell.XCentroid</th>\n",
              "      <th>MorphologyV2Cell.YCentroid</th>\n",
              "    </tr>\n",
              "  </thead>\n",
              "  <tbody>\n",
              "    <tr>\n",
              "      <th>0</th>\n",
              "      <td>207827637</td>\n",
              "      <td>Test</td>\n",
              "      <td>PS</td>\n",
              "      <td>143.247705</td>\n",
              "      <td>1</td>\n",
              "      <td>185</td>\n",
              "      <td>0</td>\n",
              "      <td>15.711864</td>\n",
              "      <td>3.954802</td>\n",
              "      <td>9.548023</td>\n",
              "      <td>2.214689</td>\n",
              "      <td>0</td>\n",
              "      <td>2</td>\n",
              "      <td>2</td>\n",
              "      <td>2</td>\n",
              "      <td>1.124509</td>\n",
              "      <td>0</td>\n",
              "      <td>0.919683</td>\n",
              "      <td>0</td>\n",
              "      <td>29.519231</td>\n",
              "      <td>13.775641</td>\n",
              "      <td>6.826923</td>\n",
              "      <td>2</td>\n",
              "      <td>2</td>\n",
              "      <td>2</td>\n",
              "      <td>4.969781</td>\n",
              "      <td>4.371017</td>\n",
              "      <td>2.718884</td>\n",
              "      <td>2</td>\n",
              "      <td>0</td>\n",
              "      <td>2</td>\n",
              "      <td>15.369540</td>\n",
              "      <td>0</td>\n",
              "      <td>3.060676</td>\n",
              "      <td>1</td>\n",
              "      <td>336.969143</td>\n",
              "      <td>0</td>\n",
              "      <td>110.096311</td>\n",
              "      <td>0</td>\n",
              "      <td>742.115646</td>\n",
              "      <td>...</td>\n",
              "      <td>99.103493</td>\n",
              "      <td>1</td>\n",
              "      <td>127.960801</td>\n",
              "      <td>0</td>\n",
              "      <td>68.783380</td>\n",
              "      <td>0</td>\n",
              "      <td>0.665148</td>\n",
              "      <td>0</td>\n",
              "      <td>2.462450</td>\n",
              "      <td>0</td>\n",
              "      <td>1.883006</td>\n",
              "      <td>0</td>\n",
              "      <td>0.454505</td>\n",
              "      <td>0.460393</td>\n",
              "      <td>1.232774</td>\n",
              "      <td>0</td>\n",
              "      <td>0</td>\n",
              "      <td>0</td>\n",
              "      <td>1</td>\n",
              "      <td>4</td>\n",
              "      <td>0</td>\n",
              "      <td>0</td>\n",
              "      <td>2781</td>\n",
              "      <td>700</td>\n",
              "      <td>1690</td>\n",
              "      <td>392</td>\n",
              "      <td>0</td>\n",
              "      <td>2</td>\n",
              "      <td>0</td>\n",
              "      <td>2</td>\n",
              "      <td>12.474676</td>\n",
              "      <td>7.609035</td>\n",
              "      <td>2.714100</td>\n",
              "      <td>0</td>\n",
              "      <td>2</td>\n",
              "      <td>2</td>\n",
              "      <td>10.642974</td>\n",
              "      <td>2</td>\n",
              "      <td>42</td>\n",
              "      <td>14</td>\n",
              "    </tr>\n",
              "    <tr>\n",
              "      <th>1</th>\n",
              "      <td>207932307</td>\n",
              "      <td>Train</td>\n",
              "      <td>PS</td>\n",
              "      <td>133.752037</td>\n",
              "      <td>0</td>\n",
              "      <td>819</td>\n",
              "      <td>1</td>\n",
              "      <td>31.923274</td>\n",
              "      <td>205.878517</td>\n",
              "      <td>69.916880</td>\n",
              "      <td>164.153453</td>\n",
              "      <td>0</td>\n",
              "      <td>0</td>\n",
              "      <td>0</td>\n",
              "      <td>0</td>\n",
              "      <td>1.263158</td>\n",
              "      <td>1</td>\n",
              "      <td>0.797080</td>\n",
              "      <td>2</td>\n",
              "      <td>31.875000</td>\n",
              "      <td>43.122283</td>\n",
              "      <td>79.308424</td>\n",
              "      <td>0</td>\n",
              "      <td>0</td>\n",
              "      <td>0</td>\n",
              "      <td>6.087592</td>\n",
              "      <td>6.642761</td>\n",
              "      <td>7.880155</td>\n",
              "      <td>0</td>\n",
              "      <td>1</td>\n",
              "      <td>1</td>\n",
              "      <td>32.305584</td>\n",
              "      <td>1</td>\n",
              "      <td>1.558394</td>\n",
              "      <td>0</td>\n",
              "      <td>2232.905485</td>\n",
              "      <td>1</td>\n",
              "      <td>1432.824568</td>\n",
              "      <td>1</td>\n",
              "      <td>3278.725624</td>\n",
              "      <td>...</td>\n",
              "      <td>30.111141</td>\n",
              "      <td>0</td>\n",
              "      <td>81.380633</td>\n",
              "      <td>2</td>\n",
              "      <td>154.898761</td>\n",
              "      <td>1</td>\n",
              "      <td>0.539758</td>\n",
              "      <td>2</td>\n",
              "      <td>1.468181</td>\n",
              "      <td>0</td>\n",
              "      <td>2.255810</td>\n",
              "      <td>0</td>\n",
              "      <td>0.398705</td>\n",
              "      <td>0.619731</td>\n",
              "      <td>0.527263</td>\n",
              "      <td>0</td>\n",
              "      <td>0</td>\n",
              "      <td>0</td>\n",
              "      <td>4</td>\n",
              "      <td>11</td>\n",
              "      <td>1</td>\n",
              "      <td>1</td>\n",
              "      <td>24964</td>\n",
              "      <td>160997</td>\n",
              "      <td>54675</td>\n",
              "      <td>128368</td>\n",
              "      <td>0</td>\n",
              "      <td>1</td>\n",
              "      <td>1</td>\n",
              "      <td>1</td>\n",
              "      <td>18.809225</td>\n",
              "      <td>56.715352</td>\n",
              "      <td>118.388139</td>\n",
              "      <td>0</td>\n",
              "      <td>0</td>\n",
              "      <td>0</td>\n",
              "      <td>32.161261</td>\n",
              "      <td>1</td>\n",
              "      <td>215</td>\n",
              "      <td>347</td>\n",
              "    </tr>\n",
              "    <tr>\n",
              "      <th>2</th>\n",
              "      <td>207932463</td>\n",
              "      <td>Train</td>\n",
              "      <td>WS</td>\n",
              "      <td>106.646387</td>\n",
              "      <td>0</td>\n",
              "      <td>431</td>\n",
              "      <td>0</td>\n",
              "      <td>28.038835</td>\n",
              "      <td>115.315534</td>\n",
              "      <td>63.941748</td>\n",
              "      <td>106.696602</td>\n",
              "      <td>0</td>\n",
              "      <td>0</td>\n",
              "      <td>0</td>\n",
              "      <td>0</td>\n",
              "      <td>1.053310</td>\n",
              "      <td>0</td>\n",
              "      <td>0.935475</td>\n",
              "      <td>0</td>\n",
              "      <td>32.487710</td>\n",
              "      <td>35.985770</td>\n",
              "      <td>51.357050</td>\n",
              "      <td>0</td>\n",
              "      <td>0</td>\n",
              "      <td>0</td>\n",
              "      <td>5.883557</td>\n",
              "      <td>6.683000</td>\n",
              "      <td>7.144601</td>\n",
              "      <td>0</td>\n",
              "      <td>1</td>\n",
              "      <td>0</td>\n",
              "      <td>23.448919</td>\n",
              "      <td>0</td>\n",
              "      <td>1.375386</td>\n",
              "      <td>0</td>\n",
              "      <td>802.194544</td>\n",
              "      <td>0</td>\n",
              "      <td>583.250400</td>\n",
              "      <td>0</td>\n",
              "      <td>1727.410431</td>\n",
              "      <td>...</td>\n",
              "      <td>34.944765</td>\n",
              "      <td>0</td>\n",
              "      <td>90.437683</td>\n",
              "      <td>2</td>\n",
              "      <td>84.564598</td>\n",
              "      <td>0</td>\n",
              "      <td>0.724312</td>\n",
              "      <td>1</td>\n",
              "      <td>1.328408</td>\n",
              "      <td>0</td>\n",
              "      <td>1.272193</td>\n",
              "      <td>0</td>\n",
              "      <td>0.472487</td>\n",
              "      <td>0.971379</td>\n",
              "      <td>0.324707</td>\n",
              "      <td>0</td>\n",
              "      <td>0</td>\n",
              "      <td>0</td>\n",
              "      <td>2</td>\n",
              "      <td>6</td>\n",
              "      <td>0</td>\n",
              "      <td>0</td>\n",
              "      <td>11552</td>\n",
              "      <td>47510</td>\n",
              "      <td>26344</td>\n",
              "      <td>43959</td>\n",
              "      <td>0</td>\n",
              "      <td>0</td>\n",
              "      <td>0</td>\n",
              "      <td>0</td>\n",
              "      <td>17.295643</td>\n",
              "      <td>37.671053</td>\n",
              "      <td>49.470524</td>\n",
              "      <td>0</td>\n",
              "      <td>0</td>\n",
              "      <td>0</td>\n",
              "      <td>21.185525</td>\n",
              "      <td>0</td>\n",
              "      <td>371</td>\n",
              "      <td>252</td>\n",
              "    </tr>\n",
              "    <tr>\n",
              "      <th>3</th>\n",
              "      <td>207932470</td>\n",
              "      <td>Train</td>\n",
              "      <td>PS</td>\n",
              "      <td>69.150325</td>\n",
              "      <td>0</td>\n",
              "      <td>298</td>\n",
              "      <td>0</td>\n",
              "      <td>19.456140</td>\n",
              "      <td>101.294737</td>\n",
              "      <td>28.217544</td>\n",
              "      <td>31.028070</td>\n",
              "      <td>0</td>\n",
              "      <td>0</td>\n",
              "      <td>0</td>\n",
              "      <td>2</td>\n",
              "      <td>1.202625</td>\n",
              "      <td>0</td>\n",
              "      <td>0.865829</td>\n",
              "      <td>2</td>\n",
              "      <td>26.732283</td>\n",
              "      <td>22.917323</td>\n",
              "      <td>26.393701</td>\n",
              "      <td>2</td>\n",
              "      <td>0</td>\n",
              "      <td>2</td>\n",
              "      <td>5.420065</td>\n",
              "      <td>5.436732</td>\n",
              "      <td>5.778329</td>\n",
              "      <td>2</td>\n",
              "      <td>0</td>\n",
              "      <td>0</td>\n",
              "      <td>19.502786</td>\n",
              "      <td>0</td>\n",
              "      <td>3.391220</td>\n",
              "      <td>1</td>\n",
              "      <td>724.714310</td>\n",
              "      <td>0</td>\n",
              "      <td>213.703111</td>\n",
              "      <td>0</td>\n",
              "      <td>1194.931973</td>\n",
              "      <td>...</td>\n",
              "      <td>33.080298</td>\n",
              "      <td>0</td>\n",
              "      <td>116.892757</td>\n",
              "      <td>0</td>\n",
              "      <td>101.091070</td>\n",
              "      <td>0</td>\n",
              "      <td>0.589163</td>\n",
              "      <td>0</td>\n",
              "      <td>2.826854</td>\n",
              "      <td>1</td>\n",
              "      <td>2.545840</td>\n",
              "      <td>1</td>\n",
              "      <td>0.881671</td>\n",
              "      <td>0.999893</td>\n",
              "      <td>0.604440</td>\n",
              "      <td>1</td>\n",
              "      <td>0</td>\n",
              "      <td>0</td>\n",
              "      <td>4</td>\n",
              "      <td>7</td>\n",
              "      <td>1</td>\n",
              "      <td>0</td>\n",
              "      <td>5545</td>\n",
              "      <td>28869</td>\n",
              "      <td>8042</td>\n",
              "      <td>8843</td>\n",
              "      <td>0</td>\n",
              "      <td>0</td>\n",
              "      <td>0</td>\n",
              "      <td>2</td>\n",
              "      <td>13.818968</td>\n",
              "      <td>30.005643</td>\n",
              "      <td>24.749537</td>\n",
              "      <td>0</td>\n",
              "      <td>0</td>\n",
              "      <td>2</td>\n",
              "      <td>13.392830</td>\n",
              "      <td>0</td>\n",
              "      <td>487</td>\n",
              "      <td>295</td>\n",
              "    </tr>\n",
              "    <tr>\n",
              "      <th>4</th>\n",
              "      <td>207932455</td>\n",
              "      <td>Test</td>\n",
              "      <td>PS</td>\n",
              "      <td>2.887837</td>\n",
              "      <td>2</td>\n",
              "      <td>285</td>\n",
              "      <td>0</td>\n",
              "      <td>24.275735</td>\n",
              "      <td>111.415441</td>\n",
              "      <td>20.474265</td>\n",
              "      <td>40.577206</td>\n",
              "      <td>0</td>\n",
              "      <td>0</td>\n",
              "      <td>0</td>\n",
              "      <td>0</td>\n",
              "      <td>1.109333</td>\n",
              "      <td>0</td>\n",
              "      <td>0.956812</td>\n",
              "      <td>0</td>\n",
              "      <td>31.580645</td>\n",
              "      <td>21.709677</td>\n",
              "      <td>25.032258</td>\n",
              "      <td>0</td>\n",
              "      <td>0</td>\n",
              "      <td>2</td>\n",
              "      <td>5.658248</td>\n",
              "      <td>5.285671</td>\n",
              "      <td>5.235857</td>\n",
              "      <td>2</td>\n",
              "      <td>0</td>\n",
              "      <td>0</td>\n",
              "      <td>19.052794</td>\n",
              "      <td>0</td>\n",
              "      <td>2.741380</td>\n",
              "      <td>0</td>\n",
              "      <td>607.518515</td>\n",
              "      <td>0</td>\n",
              "      <td>221.610480</td>\n",
              "      <td>0</td>\n",
              "      <td>1140.426304</td>\n",
              "      <td>...</td>\n",
              "      <td>27.029347</td>\n",
              "      <td>0</td>\n",
              "      <td>110.966625</td>\n",
              "      <td>0</td>\n",
              "      <td>86.466698</td>\n",
              "      <td>0</td>\n",
              "      <td>0.600135</td>\n",
              "      <td>0</td>\n",
              "      <td>2.727127</td>\n",
              "      <td>1</td>\n",
              "      <td>2.018155</td>\n",
              "      <td>0</td>\n",
              "      <td>0.517027</td>\n",
              "      <td>1.176753</td>\n",
              "      <td>0.925812</td>\n",
              "      <td>0</td>\n",
              "      <td>0</td>\n",
              "      <td>0</td>\n",
              "      <td>1</td>\n",
              "      <td>7</td>\n",
              "      <td>0</td>\n",
              "      <td>0</td>\n",
              "      <td>6603</td>\n",
              "      <td>30305</td>\n",
              "      <td>5569</td>\n",
              "      <td>11037</td>\n",
              "      <td>0</td>\n",
              "      <td>0</td>\n",
              "      <td>0</td>\n",
              "      <td>0</td>\n",
              "      <td>15.407972</td>\n",
              "      <td>20.504288</td>\n",
              "      <td>45.450457</td>\n",
              "      <td>0</td>\n",
              "      <td>0</td>\n",
              "      <td>0</td>\n",
              "      <td>13.198561</td>\n",
              "      <td>0</td>\n",
              "      <td>283</td>\n",
              "      <td>159</td>\n",
              "    </tr>\n",
              "  </tbody>\n",
              "</table>\n",
              "<p>5 rows × 119 columns</p>\n",
              "</div>"
            ],
            "text/plain": [
              "   Unnamed: 0   Case  ... MorphologyV2Cell.XCentroid  MorphologyV2Cell.YCentroid\n",
              "0   207827637   Test  ...                         42                          14\n",
              "1   207932307  Train  ...                        215                         347\n",
              "2   207932463  Train  ...                        371                         252\n",
              "3   207932470  Train  ...                        487                         295\n",
              "4   207932455   Test  ...                        283                         159\n",
              "\n",
              "[5 rows x 119 columns]"
            ]
          },
          "metadata": {
            "tags": []
          },
          "execution_count": 11
        }
      ]
    },
    {
      "cell_type": "markdown",
      "metadata": {
        "id": "wWDy3WPwUd5M"
      },
      "source": [
        "\n",
        "## Selección de columnas a trabajar y generación de un gráfico de dispersión\n",
        "\n",
        "En este ejemplo trabajaremos con dos columnas predictoras específicas. No es necesario saber el contexto sobre el significado de éstas, por lo tanto les cambiaremos el nombre a *PredictorA* y *PredictorB*.  \n",
        "\n",
        "La columna *Class* indica a que clase pertenece cada registro (poorly segmented *PS* or well-segmented *WS*).  Desde acá vemos que la variable salida de nuestro trabajo es una categoría, por lo tanto la tarea de aprendizaje supervisado en Machine Learning es **clasificación**.\n",
        "\n",
        "La columna *Case* indica si el registro fue utilizado para entrenamiento o para prueba (e.g., *Train* o *Test*). Con ésta información podemos dividir nuestro conjunto de datos. También podemos optar por dividir el conjunto de datos de forma aleatoria, pero si deseamos crear resultados repetibles, la división del conjunto de datos debe ser la misma entre distintas repeticiones del mismo experimento. Esto es bastante común en el ambito académico donde los resultados de los experimentos pueden ser verificados por otros investigadores.\n",
        "\n",
        "Basados en esta información, podemos realizar un gráfico de dispersión para observar la relación de estos predictores.\n",
        "\n",
        "<blockquote> \n",
        "Debemos tomar en cuenta que al momento de realizar EDA (Exploratory Data Analysis), utilizemos solamente los datos de entrenamiento para evitar cualquier fuga de datos ( <a href=\"https://en.wikipedia.org/wiki/Leakage_%28machine_learning%29#Training_example_leakage\">Training example leakage</a>).\n",
        "</blockquote>"
      ]
    },
    {
      "cell_type": "code",
      "metadata": {
        "id": "9KLNetz4PkIj"
      },
      "source": [
        "columns = ['MorphologyV2Cell.EqSphereAreaCh1', 'MorphologyV2Cell.PerimCh1', 'Class', 'Case']\n",
        "new_names = ['PredictorA','PredictorB', 'Class', 'Case']"
      ],
      "execution_count": 12,
      "outputs": []
    },
    {
      "cell_type": "code",
      "metadata": {
        "id": "akyvEVfOREij"
      },
      "source": [
        "df = df[columns]\n",
        "df.columns = new_names"
      ],
      "execution_count": 13,
      "outputs": []
    },
    {
      "cell_type": "code",
      "metadata": {
        "id": "MPMB2oeFKxmB",
        "colab": {
          "base_uri": "https://localhost:8080/",
          "height": 204
        },
        "outputId": "7285b89a-880e-452c-bb1b-2cb10a150849"
      },
      "source": [
        "df.head()"
      ],
      "execution_count": null,
      "outputs": [
        {
          "output_type": "execute_result",
          "data": {
            "text/html": [
              "<div>\n",
              "<style scoped>\n",
              "    .dataframe tbody tr th:only-of-type {\n",
              "        vertical-align: middle;\n",
              "    }\n",
              "\n",
              "    .dataframe tbody tr th {\n",
              "        vertical-align: top;\n",
              "    }\n",
              "\n",
              "    .dataframe thead th {\n",
              "        text-align: right;\n",
              "    }\n",
              "</style>\n",
              "<table border=\"1\" class=\"dataframe\">\n",
              "  <thead>\n",
              "    <tr style=\"text-align: right;\">\n",
              "      <th></th>\n",
              "      <th>PredictorA</th>\n",
              "      <th>PredictorB</th>\n",
              "      <th>Class</th>\n",
              "      <th>Case</th>\n",
              "      <th>color</th>\n",
              "    </tr>\n",
              "  </thead>\n",
              "  <tbody>\n",
              "    <tr>\n",
              "      <th>0</th>\n",
              "      <td>742.115646</td>\n",
              "      <td>68.783380</td>\n",
              "      <td>PS</td>\n",
              "      <td>Test</td>\n",
              "      <td>cornflowerblue</td>\n",
              "    </tr>\n",
              "    <tr>\n",
              "      <th>1</th>\n",
              "      <td>3278.725624</td>\n",
              "      <td>154.898761</td>\n",
              "      <td>PS</td>\n",
              "      <td>Train</td>\n",
              "      <td>cornflowerblue</td>\n",
              "    </tr>\n",
              "    <tr>\n",
              "      <th>2</th>\n",
              "      <td>1727.410431</td>\n",
              "      <td>84.564598</td>\n",
              "      <td>WS</td>\n",
              "      <td>Train</td>\n",
              "      <td>darkorange</td>\n",
              "    </tr>\n",
              "    <tr>\n",
              "      <th>3</th>\n",
              "      <td>1194.931973</td>\n",
              "      <td>101.091070</td>\n",
              "      <td>PS</td>\n",
              "      <td>Train</td>\n",
              "      <td>cornflowerblue</td>\n",
              "    </tr>\n",
              "    <tr>\n",
              "      <th>4</th>\n",
              "      <td>1140.426304</td>\n",
              "      <td>86.466698</td>\n",
              "      <td>PS</td>\n",
              "      <td>Test</td>\n",
              "      <td>cornflowerblue</td>\n",
              "    </tr>\n",
              "  </tbody>\n",
              "</table>\n",
              "</div>"
            ],
            "text/plain": [
              "    PredictorA  PredictorB Class   Case           color\n",
              "0   742.115646   68.783380    PS   Test  cornflowerblue\n",
              "1  3278.725624  154.898761    PS  Train  cornflowerblue\n",
              "2  1727.410431   84.564598    WS  Train      darkorange\n",
              "3  1194.931973  101.091070    PS  Train  cornflowerblue\n",
              "4  1140.426304   86.466698    PS   Test  cornflowerblue"
            ]
          },
          "metadata": {
            "tags": []
          },
          "execution_count": 17
        }
      ]
    },
    {
      "cell_type": "code",
      "metadata": {
        "id": "6ZxS6B9xTCYx"
      },
      "source": [
        "color_dict = {'PS':'cornflowerblue', 'WS':'darkorange'}\n",
        "df['color']= df['Class'].map(color_dict)"
      ],
      "execution_count": 14,
      "outputs": []
    },
    {
      "cell_type": "code",
      "metadata": {
        "id": "3EjQ7vONPZGV"
      },
      "source": [
        "train = df[df['Case']=='Train']\n",
        "test = df[df['Case']=='Test']"
      ],
      "execution_count": 15,
      "outputs": []
    },
    {
      "cell_type": "code",
      "metadata": {
        "id": "CQMMJLlGPuv9",
        "colab": {
          "base_uri": "https://localhost:8080/",
          "height": 279
        },
        "outputId": "e6504605-c32e-48b8-a74b-d45d5f310c8d"
      },
      "source": [
        "fig, ax = plt.subplots()\n",
        "for class_ in pd.unique(df['Class']):\n",
        "  train[train['Class']==class_].plot.scatter('PredictorA','PredictorB', c='none', edgecolor=color_dict[class_],label=class_, ax=ax)"
      ],
      "execution_count": 16,
      "outputs": [
        {
          "output_type": "display_data",
          "data": {
            "image/png": "[encoded data removed]",
            "text/plain": [
              "<Figure size 432x288 with 1 Axes>"
            ]
          },
          "metadata": {
            "tags": [],
            "needs_background": "light"
          }
        }
      ]
    },
    {
      "cell_type": "markdown",
      "metadata": {
        "id": "k3DG2C1iZTDC"
      },
      "source": [
        "## Entrenamiento de un modelo predictivo\n",
        "\n",
        "El siguiente paso es entrenar un modelo de datos predictivo. Vamos a utilizar un modelo simple, una regresión logística. \n",
        "\n",
        "\n",
        "\n",
        "1.   Importamos las funciones necesarias de la librería [scikit_lern](https://scikit-learn.org/0.22/index.html) (v0.22 al momento de hacer este tutorial). \n",
        "2.   Creamos nuestras variables de entrenamiento, dividiendo el conjunto de datos en variables predictoras (usualmente representadas con una $X$) *X_train*,  y la variable objetivo (usualmente representada con una $y$) *y_train*, hacemos lo mismo para los datos de prueba, esto es *X_test* y *y_test*\n",
        "3.   Entrenamos el modelo llamando a la función *fit*.\n",
        "4.   Generamos el gráfico ROC ([Receiver Operating Characteristic](https://en.wikipedia.org/wiki/Receiver_operating_characteristic)) y calculamos el áera bajo la curva.\n",
        "5.   Analizamos\n",
        "\n"
      ]
    },
    {
      "cell_type": "code",
      "metadata": {
        "id": "v-cOC5IqQyEO"
      },
      "source": [
        "from sklearn.linear_model import LogisticRegression\n",
        "from sklearn import metrics"
      ],
      "execution_count": 17,
      "outputs": []
    },
    {
      "cell_type": "code",
      "metadata": {
        "id": "X38qanb5rQHv"
      },
      "source": [
        "X_train = train[['PredictorA','PredictorB']]\n",
        "y_train = train['Class']\n",
        "\n",
        "X_test = test[['PredictorA','PredictorB']]\n",
        "y_test = test['Class']"
      ],
      "execution_count": 18,
      "outputs": []
    },
    {
      "cell_type": "code",
      "metadata": {
        "id": "RtI4W9_XrHtz",
        "colab": {
          "base_uri": "https://localhost:8080/"
        },
        "outputId": "48cbf30b-9905-4c4a-d3ef-9029a391b7a0"
      },
      "source": [
        "clf = LogisticRegression()\n",
        "clf.fit(X_train, y_train)"
      ],
      "execution_count": 19,
      "outputs": [
        {
          "output_type": "execute_result",
          "data": {
            "text/plain": [
              "LogisticRegression(C=1.0, class_weight=None, dual=False, fit_intercept=True,\n",
              "                   intercept_scaling=1, l1_ratio=None, max_iter=100,\n",
              "                   multi_class='auto', n_jobs=None, penalty='l2',\n",
              "                   random_state=None, solver='lbfgs', tol=0.0001, verbose=0,\n",
              "                   warm_start=False)"
            ]
          },
          "metadata": {
            "tags": []
          },
          "execution_count": 19
        }
      ]
    },
    {
      "cell_type": "code",
      "metadata": {
        "id": "pJ8S7QOorHcr",
        "colab": {
          "base_uri": "https://localhost:8080/",
          "height": 296
        },
        "outputId": "2b5e3eb8-ec11-42c2-8cbf-22c39a6e922e"
      },
      "source": [
        "roc_curve = metrics.plot_roc_curve(clf, X_test, y_test)\n",
        "plt.plot([0, 1], [0, 1], color='gray', lw=2, linestyle='--')"
      ],
      "execution_count": 20,
      "outputs": [
        {
          "output_type": "execute_result",
          "data": {
            "text/plain": [
              "[<matplotlib.lines.Line2D at 0x7faed873d890>]"
            ]
          },
          "metadata": {
            "tags": []
          },
          "execution_count": 20
        },
        {
          "output_type": "display_data",
          "data": {
            "image/png": "[encoded data removed]",
            "text/plain": [
              "<Figure size 432x288 with 1 Axes>"
            ]
          },
          "metadata": {
            "tags": [],
            "needs_background": "light"
          }
        }
      ]
    },
    {
      "cell_type": "markdown",
      "metadata": {
        "id": "4Tb9wDW6LH21"
      },
      "source": [
        "## Exploración de los predictores\n",
        "\n",
        "La ROC-AUC obtenida con los predictores sin ningún tipo de procesmaiento arrojó un valor de 0.79, el cual es un resultado decente, pero probablemente se puede mejorar. \n",
        "\n",
        "Primero veamos el resumen de estadísticos y luego veamos la distribución de los valores en los dos predictores. "
      ]
    },
    {
      "cell_type": "code",
      "metadata": {
        "id": "mG7k6dDpUuV1",
        "colab": {
          "base_uri": "https://localhost:8080/",
          "height": 297
        },
        "outputId": "bf62d0d3-ef34-4929-eff5-dbe8b598565e"
      },
      "source": [
        "train.describe()"
      ],
      "execution_count": 21,
      "outputs": [
        {
          "output_type": "execute_result",
          "data": {
            "text/html": [
              "<div>\n",
              "<style scoped>\n",
              "    .dataframe tbody tr th:only-of-type {\n",
              "        vertical-align: middle;\n",
              "    }\n",
              "\n",
              "    .dataframe tbody tr th {\n",
              "        vertical-align: top;\n",
              "    }\n",
              "\n",
              "    .dataframe thead th {\n",
              "        text-align: right;\n",
              "    }\n",
              "</style>\n",
              "<table border=\"1\" class=\"dataframe\">\n",
              "  <thead>\n",
              "    <tr style=\"text-align: right;\">\n",
              "      <th></th>\n",
              "      <th>PredictorA</th>\n",
              "      <th>PredictorB</th>\n",
              "    </tr>\n",
              "  </thead>\n",
              "  <tbody>\n",
              "    <tr>\n",
              "      <th>count</th>\n",
              "      <td>1009.000000</td>\n",
              "      <td>1009.000000</td>\n",
              "    </tr>\n",
              "    <tr>\n",
              "      <th>mean</th>\n",
              "      <td>1302.497250</td>\n",
              "      <td>91.606820</td>\n",
              "    </tr>\n",
              "    <tr>\n",
              "      <th>std</th>\n",
              "      <td>866.220998</td>\n",
              "      <td>41.962245</td>\n",
              "    </tr>\n",
              "    <tr>\n",
              "      <th>min</th>\n",
              "      <td>603.755102</td>\n",
              "      <td>47.737594</td>\n",
              "    </tr>\n",
              "    <tr>\n",
              "      <th>25%</th>\n",
              "      <td>779.850340</td>\n",
              "      <td>64.366964</td>\n",
              "    </tr>\n",
              "    <tr>\n",
              "      <th>50%</th>\n",
              "      <td>1027.222222</td>\n",
              "      <td>79.021475</td>\n",
              "    </tr>\n",
              "    <tr>\n",
              "      <th>75%</th>\n",
              "      <td>1505.195011</td>\n",
              "      <td>103.241588</td>\n",
              "    </tr>\n",
              "    <tr>\n",
              "      <th>max</th>\n",
              "      <td>8746.063492</td>\n",
              "      <td>459.765378</td>\n",
              "    </tr>\n",
              "  </tbody>\n",
              "</table>\n",
              "</div>"
            ],
            "text/plain": [
              "        PredictorA   PredictorB\n",
              "count  1009.000000  1009.000000\n",
              "mean   1302.497250    91.606820\n",
              "std     866.220998    41.962245\n",
              "min     603.755102    47.737594\n",
              "25%     779.850340    64.366964\n",
              "50%    1027.222222    79.021475\n",
              "75%    1505.195011   103.241588\n",
              "max    8746.063492   459.765378"
            ]
          },
          "metadata": {
            "tags": []
          },
          "execution_count": 21
        }
      ]
    },
    {
      "cell_type": "code",
      "metadata": {
        "id": "IZ9LZxkN1U91",
        "colab": {
          "base_uri": "https://localhost:8080/",
          "height": 282
        },
        "outputId": "38d99499-77a4-413c-cd35-d23dab5f0546"
      },
      "source": [
        "X_train['PredictorA'].plot.kde()"
      ],
      "execution_count": 22,
      "outputs": [
        {
          "output_type": "execute_result",
          "data": {
            "text/plain": [
              "<matplotlib.axes._subplots.AxesSubplot at 0x7faed8724d10>"
            ]
          },
          "metadata": {
            "tags": []
          },
          "execution_count": 22
        },
        {
          "output_type": "display_data",
          "data": {
            "image/png": "[encoded data removed]",
            "text/plain": [
              "<Figure size 432x288 with 1 Axes>"
            ]
          },
          "metadata": {
            "tags": [],
            "needs_background": "light"
          }
        }
      ]
    },
    {
      "cell_type": "code",
      "metadata": {
        "id": "seZj6cMg1mXm",
        "colab": {
          "base_uri": "https://localhost:8080/",
          "height": 282
        },
        "outputId": "2e269313-fbe5-4792-f196-4b0e30605666"
      },
      "source": [
        "X_train['PredictorB'].plot.kde()"
      ],
      "execution_count": 23,
      "outputs": [
        {
          "output_type": "execute_result",
          "data": {
            "text/plain": [
              "<matplotlib.axes._subplots.AxesSubplot at 0x7faed873df90>"
            ]
          },
          "metadata": {
            "tags": []
          },
          "execution_count": 23
        },
        {
          "output_type": "display_data",
          "data": {
            "image/png": "[encoded data removed]",
            "text/plain": [
              "<Figure size 432x288 with 1 Axes>"
            ]
          },
          "metadata": {
            "tags": [],
            "needs_background": "light"
          }
        }
      ]
    },
    {
      "cell_type": "markdown",
      "metadata": {
        "id": "ajSRQOvnWEnV"
      },
      "source": [
        "Vemos que los predictores no tienen valores negativos, y que la distribución está sesgada a la derecha. Esto se puede corrobarar visualmente, pero también podemos analizar la media y la mediana. En este caso, la media es mas grande que la mediana, por lo tanto es una distribución con sesgo a la derecha.\n",
        "\n",
        "Como referencia veamos la siguiente imágen.\n",
        "\n",
        "![picture](https://www.statisticshowto.com/wp-content/uploads/2014/02/pearson-mode-skewness.jpg)\n"
      ]
    },
    {
      "cell_type": "markdown",
      "metadata": {
        "id": "2B3KZ0ECWnPR"
      },
      "source": [
        "## Transformación Box-Cox\n",
        "\n",
        "Una forma de transformar las variables dependientes que tienen una distribución con sesgo a una distribución normal, es utilizar las transformación potencial conocida como Box-Cox. Esta la estudiaremos con más detalle en las próximas unidades, pero de momento utilizemos esta transformación en nuestros dos predictores.\n",
        "\n",
        "La forma de transformar los predictores es utilizando la clase [PowerTransformer](https://scikit-learn.org/0.22/modules/generated/sklearn.preprocessing.PowerTransformer.html#sklearn.preprocessing.PowerTransformer) de las librerías de preprocesamiento de scikit-learn. \n",
        "\n",
        "Realicemos esta transformación y luego entrenmos nuevamente una Regresión Logística y evaluemos el ROC-AUC."
      ]
    },
    {
      "cell_type": "code",
      "metadata": {
        "id": "YtDa1ayJrG9A"
      },
      "source": [
        "from sklearn.preprocessing import PowerTransformer"
      ],
      "execution_count": 24,
      "outputs": []
    },
    {
      "cell_type": "code",
      "metadata": {
        "id": "H36e7iPKu735"
      },
      "source": [
        "box_cox_transformer = PowerTransformer()\n",
        "X_train_transformed = box_cox_transformer.fit_transform(X_train)"
      ],
      "execution_count": 25,
      "outputs": []
    },
    {
      "cell_type": "markdown",
      "metadata": {
        "id": "3uTvTohEY2CZ"
      },
      "source": [
        "Vemos los parámetros para cada predictor. Si el valor es cercano a -1, signfica que la transformación encuentra el valor inverso del valor original"
      ]
    },
    {
      "cell_type": "code",
      "metadata": {
        "id": "mYShj-Ca0yAy",
        "colab": {
          "base_uri": "https://localhost:8080/"
        },
        "outputId": "218ae5b1-eb64-4aaf-855b-0e3e30dfa9db"
      },
      "source": [
        "box_cox_transformer.lambdas_"
      ],
      "execution_count": 26,
      "outputs": [
        {
          "output_type": "execute_result",
          "data": {
            "text/plain": [
              "array([-0.85848129, -1.11271383])"
            ]
          },
          "metadata": {
            "tags": []
          },
          "execution_count": 26
        }
      ]
    },
    {
      "cell_type": "markdown",
      "metadata": {
        "id": "Zl32FiqZZAMZ"
      },
      "source": [
        "Ahora generamos las gráficas de densidad de los predictores, podemos ver que ya distribución ahora está mas normalizada."
      ]
    },
    {
      "cell_type": "code",
      "metadata": {
        "id": "sUbAR6d11sFG",
        "colab": {
          "base_uri": "https://localhost:8080/",
          "height": 282
        },
        "outputId": "fd46b82a-9d44-4584-8662-d38271ff46f4"
      },
      "source": [
        "pd.DataFrame(X_train_transformed)[0].plot.kde()"
      ],
      "execution_count": null,
      "outputs": [
        {
          "output_type": "execute_result",
          "data": {
            "text/plain": [
              "<matplotlib.axes._subplots.AxesSubplot at 0x7f511e8eeb10>"
            ]
          },
          "metadata": {
            "tags": []
          },
          "execution_count": 24
        },
        {
          "output_type": "display_data",
          "data": {
            "image/png": "[encoded data removed]",
            "text/plain": [
              "<Figure size 432x288 with 1 Axes>"
            ]
          },
          "metadata": {
            "tags": [],
            "needs_background": "light"
          }
        }
      ]
    },
    {
      "cell_type": "code",
      "metadata": {
        "id": "Rp92GxiR2gDO",
        "colab": {
          "base_uri": "https://localhost:8080/",
          "height": 282
        },
        "outputId": "27676b9b-5464-490a-ae83-f820934a6ccb"
      },
      "source": [
        "\n",
        "pd.DataFrame(X_train_transformed)[1].plot.kde()"
      ],
      "execution_count": 27,
      "outputs": [
        {
          "output_type": "execute_result",
          "data": {
            "text/plain": [
              "<matplotlib.axes._subplots.AxesSubplot at 0x7faed80fe810>"
            ]
          },
          "metadata": {
            "tags": []
          },
          "execution_count": 27
        },
        {
          "output_type": "display_data",
          "data": {
            "image/png": "[encoded data removed]",
            "text/plain": [
              "<Figure size 432x288 with 1 Axes>"
            ]
          },
          "metadata": {
            "tags": [],
            "needs_background": "light"
          }
        }
      ]
    },
    {
      "cell_type": "code",
      "metadata": {
        "id": "J9nyBKxTOSxC",
        "colab": {
          "base_uri": "https://localhost:8080/"
        },
        "outputId": "bd647a00-0873-4d4c-8486-2579e57bd1d9"
      },
      "source": [
        "train['A_transformed'] = X_train_transformed[:,0]\n",
        "train['B_transformed'] = X_train_transformed[:,1]"
      ],
      "execution_count": 28,
      "outputs": [
        {
          "output_type": "stream",
          "text": [
            "/usr/local/lib/python3.7/dist-packages/ipykernel_launcher.py:1: SettingWithCopyWarning: \n",
            "A value is trying to be set on a copy of a slice from a DataFrame.\n",
            "Try using .loc[row_indexer,col_indexer] = value instead\n",
            "\n",
            "See the caveats in the documentation: https://pandas.pydata.org/pandas-docs/stable/user_guide/indexing.html#returning-a-view-versus-a-copy\n",
            "  \"\"\"Entry point for launching an IPython kernel.\n",
            "/usr/local/lib/python3.7/dist-packages/ipykernel_launcher.py:2: SettingWithCopyWarning: \n",
            "A value is trying to be set on a copy of a slice from a DataFrame.\n",
            "Try using .loc[row_indexer,col_indexer] = value instead\n",
            "\n",
            "See the caveats in the documentation: https://pandas.pydata.org/pandas-docs/stable/user_guide/indexing.html#returning-a-view-versus-a-copy\n",
            "  \n"
          ],
          "name": "stderr"
        }
      ]
    },
    {
      "cell_type": "code",
      "metadata": {
        "id": "7gnPs2TwOJyo",
        "colab": {
          "base_uri": "https://localhost:8080/",
          "height": 280
        },
        "outputId": "fee4792a-bd2b-42af-da8c-ae690b37f915"
      },
      "source": [
        "fig, ax = plt.subplots()\n",
        "for class_ in pd.unique(df['Class']):\n",
        "  train[train['Class']==class_].plot.scatter('A_transformed','B_transformed', c='none', edgecolor=color_dict[class_],label=class_, ax=ax)"
      ],
      "execution_count": 29,
      "outputs": [
        {
          "output_type": "display_data",
          "data": {
            "image/png": "[encoded data removed]",
            "text/plain": [
              "<Figure size 432x288 with 1 Axes>"
            ]
          },
          "metadata": {
            "tags": [],
            "needs_background": "light"
          }
        }
      ]
    },
    {
      "cell_type": "code",
      "metadata": {
        "id": "TYV94Kcju71g",
        "colab": {
          "base_uri": "https://localhost:8080/"
        },
        "outputId": "9250a2fa-1e11-4a37-ee94-307b8ad32753"
      },
      "source": [
        "clf_transformed = LogisticRegression()\n",
        "clf_transformed.fit(X_train_transformed, y_train)"
      ],
      "execution_count": 30,
      "outputs": [
        {
          "output_type": "execute_result",
          "data": {
            "text/plain": [
              "LogisticRegression(C=1.0, class_weight=None, dual=False, fit_intercept=True,\n",
              "                   intercept_scaling=1, l1_ratio=None, max_iter=100,\n",
              "                   multi_class='auto', n_jobs=None, penalty='l2',\n",
              "                   random_state=None, solver='lbfgs', tol=0.0001, verbose=0,\n",
              "                   warm_start=False)"
            ]
          },
          "metadata": {
            "tags": []
          },
          "execution_count": 30
        }
      ]
    },
    {
      "cell_type": "code",
      "metadata": {
        "id": "haY8D249u7xk",
        "colab": {
          "base_uri": "https://localhost:8080/",
          "height": 296
        },
        "outputId": "4e96c69d-352b-4c8c-e66e-d2c8d3f0263c"
      },
      "source": [
        "roc_curve = metrics.plot_roc_curve(clf_transformed, box_cox_transformer.transform(X_test), y_test)\n",
        "plt.plot([0, 1], [0, 1], color='gray', lw=2, linestyle='--')"
      ],
      "execution_count": 31,
      "outputs": [
        {
          "output_type": "execute_result",
          "data": {
            "text/plain": [
              "[<matplotlib.lines.Line2D at 0x7faed76f8410>]"
            ]
          },
          "metadata": {
            "tags": []
          },
          "execution_count": 31
        },
        {
          "output_type": "display_data",
          "data": {
            "image/png": "[encoded data removed]",
            "text/plain": [
              "<Figure size 432x288 with 1 Axes>"
            ]
          },
          "metadata": {
            "tags": [],
            "needs_background": "light"
          }
        }
      ]
    },
    {
      "cell_type": "markdown",
      "metadata": {
        "id": "G_Cfze8lZKmY"
      },
      "source": [
        "## Comparación de resultados\n",
        "\n",
        "Podemos observar claramente que una simple transformación mejoró el rendimiento del modelo predictor en aproximadamente 6%. Abajo podemos graficar los dos ROC para visualizar más fácilmente la comparación entre los dos resultados"
      ]
    },
    {
      "cell_type": "code",
      "metadata": {
        "id": "AUCAtGZyz-u9",
        "colab": {
          "base_uri": "https://localhost:8080/",
          "height": 296
        },
        "outputId": "7ad9c141-39af-4b1d-a3e3-b0bd11caff6b"
      },
      "source": [
        "roc_curve = metrics.plot_roc_curve(clf_transformed, box_cox_transformer.transform(X_test), y_test)\n",
        "metrics.plot_roc_curve(clf, X_test, y_test, ax= roc_curve.ax_)\n",
        "plt.plot([0, 1], [0, 1], color='gray', lw=2, linestyle='--')"
      ],
      "execution_count": 32,
      "outputs": [
        {
          "output_type": "execute_result",
          "data": {
            "text/plain": [
              "[<matplotlib.lines.Line2D at 0x7faed7678d10>]"
            ]
          },
          "metadata": {
            "tags": []
          },
          "execution_count": 32
        },
        {
          "output_type": "display_data",
          "data": {
            "image/png": "[encoded data removed]",
            "text/plain": [
              "<Figure size 432x288 with 1 Axes>"
            ]
          },
          "metadata": {
            "tags": [],
            "needs_background": "light"
          }
        }
      ]
    },
    {
      "cell_type": "markdown",
      "metadata": {
        "id": "9n4hWEjbvnXJ"
      },
      "source": [
        "## Scikit-learn pipelines\n",
        "\n",
        "\n",
        "Una forma de realizar el trabajo de manera más limpia y automatizada son los [pipelines](https://scikit-learn.org/0.22/modules/generated/sklearn.pipeline.Pipeline.html#sklearn.pipeline.Pipeline) de scikit-learn. En este caso solo tenemos una transformación de las variables predictoras, pero en algunos casos, estas transformaciones se hacen en cadena, y es alli cuando los **pipelines** son más útiles.\n",
        "\n",
        "De cualquier forma, para terminar esta hoja de trabajo, utilicemos los pipelines para realizar el mismo ejercicio de utilizar primero una transformación Cox-Box y luego el entrenamiento de un modelo predictivo."
      ]
    },
    {
      "cell_type": "code",
      "metadata": {
        "id": "FtYMrwP6u7o0"
      },
      "source": [
        "from sklearn.pipeline import Pipeline"
      ],
      "execution_count": 33,
      "outputs": []
    },
    {
      "cell_type": "code",
      "metadata": {
        "id": "oPMgoHdNu7UZ"
      },
      "source": [
        "estimators = [('box_cox_transform',PowerTransformer()), ('logistic_regression',LogisticRegression())]\n",
        "pipe = Pipeline(estimators)"
      ],
      "execution_count": 34,
      "outputs": []
    },
    {
      "cell_type": "code",
      "metadata": {
        "id": "4wKdXOolwzac",
        "colab": {
          "base_uri": "https://localhost:8080/"
        },
        "outputId": "fab54987-1629-465c-c7c4-ea87dcc27668"
      },
      "source": [
        "pipe.fit(X_train,y_train)"
      ],
      "execution_count": 35,
      "outputs": [
        {
          "output_type": "execute_result",
          "data": {
            "text/plain": [
              "Pipeline(memory=None,\n",
              "         steps=[('box_cox_transform',\n",
              "                 PowerTransformer(copy=True, method='yeo-johnson',\n",
              "                                  standardize=True)),\n",
              "                ('logistic_regression',\n",
              "                 LogisticRegression(C=1.0, class_weight=None, dual=False,\n",
              "                                    fit_intercept=True, intercept_scaling=1,\n",
              "                                    l1_ratio=None, max_iter=100,\n",
              "                                    multi_class='auto', n_jobs=None,\n",
              "                                    penalty='l2', random_state=None,\n",
              "                                    solver='lbfgs', tol=0.0001, verbose=0,\n",
              "                                    warm_start=False))],\n",
              "         verbose=False)"
            ]
          },
          "metadata": {
            "tags": []
          },
          "execution_count": 35
        }
      ]
    },
    {
      "cell_type": "code",
      "metadata": {
        "id": "dl-PSwiAw4yC",
        "colab": {
          "base_uri": "https://localhost:8080/",
          "height": 296
        },
        "outputId": "dca16831-791d-46d0-8240-1fa926dc30fb"
      },
      "source": [
        "roc_curve = metrics.plot_roc_curve(pipe, X_test, y_test)\n",
        "plt.plot([0, 1], [0, 1], color='gray', lw=2, linestyle='--')"
      ],
      "execution_count": 36,
      "outputs": [
        {
          "output_type": "execute_result",
          "data": {
            "text/plain": [
              "[<matplotlib.lines.Line2D at 0x7faed75f9750>]"
            ]
          },
          "metadata": {
            "tags": []
          },
          "execution_count": 36
        },
        {
          "output_type": "display_data",
          "data": {
            "image/png": "[encoded data removed]",
            "text/plain": [
              "<Figure size 432x288 with 1 Axes>"
            ]
          },
          "metadata": {
            "tags": [],
            "needs_background": "light"
          }
        }
      ]
    },
    {
      "cell_type": "code",
      "metadata": {
        "id": "RyXWIHymTd_8"
      },
      "source": [
        ""
      ],
      "execution_count": null,
      "outputs": []
    }
  ]
}